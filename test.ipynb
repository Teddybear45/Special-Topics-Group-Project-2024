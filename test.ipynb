{
 "cells": [
  {
   "cell_type": "code",
   "execution_count": 15,
   "metadata": {},
   "outputs": [],
   "source": [
    "from convert import mask_to_label_dir, label_to_mask_dir"
   ]
  },
  {
   "cell_type": "code",
   "execution_count": 16,
   "metadata": {},
   "outputs": [
    {
     "name": "stdout",
     "output_type": "stream",
     "text": [
      "converted Screenshot-2023-11-06-at-1-48-59-PM_png.rf.39843e182db1acefc1986a86931e8fe3.jpg\n",
      "converted Screenshot-2023-11-06-at-1-49-28-PM_png.rf.11898cbe9af4b835c49e50063e5d5168.jpg\n",
      "converted Screenshot-2023-11-06-at-1-54-38-PM_png.rf.4323dc05f43053c1f9c9974584a9cfcb.jpg\n",
      "converted Screenshot-2023-10-24-at-4-39-10-PM_png.rf.d91431e9d734a1bb7f54ee35e62e56ca.jpg\n",
      "converted Screenshot-2023-11-06-at-2-01-02-PM_png.rf.ec9d841f53aada7c4c1403dd3d44a6c4.jpg\n",
      "converted Screenshot-2023-11-06-at-1-51-34-PM_png.rf.0ebe5762b5b1c69a2f22812b5c3748d0.jpg\n",
      "converted Screenshot-2023-10-24-at-4-41-17-PM_png.rf.e47c6d0b52073dcca6e322b9206bb1bc.jpg\n",
      "converted Screenshot-2023-11-06-at-1-49-49-PM_png.rf.f7593b878799c9bb7905b418c652e2cd.jpg\n",
      "converted Screenshot-2023-11-06-at-1-48-10-PM_png.rf.634d3990e90a6b694a4fc63d25c3785a.jpg\n",
      "converted Screenshot-2023-11-06-at-1-49-07-PM_png.rf.ac27db08de94cf4ff40df7f19d8a35dd.jpg\n"
     ]
    },
    {
     "ename": "ValueError",
     "evalue": "max() arg is an empty sequence",
     "output_type": "error",
     "traceback": [
      "\u001b[0;31m---------------------------------------------------------------------------\u001b[0m",
      "\u001b[0;31mValueError\u001b[0m                                Traceback (most recent call last)",
      "\u001b[1;32m/Users/nathansun/Documents/Special-Topics-Group-Project-2024/test.ipynb Cell 2\u001b[0m line \u001b[0;36m1\n\u001b[0;32m----> <a href='vscode-notebook-cell:/Users/nathansun/Documents/Special-Topics-Group-Project-2024/test.ipynb#W2sZmlsZQ%3D%3D?line=0'>1</a>\u001b[0m mask_to_label_dir(\u001b[39m\"\u001b[39;49m\u001b[39m./streetview.v3i.yolov5pytorch/train/masks\u001b[39;49m\u001b[39m\"\u001b[39;49m, \u001b[39m\"\u001b[39;49m\u001b[39m./streetview.v3i.yolov5pytorch/train/mlabel2\u001b[39;49m\u001b[39m\"\u001b[39;49m)\n",
      "File \u001b[0;32m~/Documents/Special-Topics-Group-Project-2024/convert.py:32\u001b[0m, in \u001b[0;36mmask_to_label_dir\u001b[0;34m(input_dir, output_dir)\u001b[0m\n\u001b[1;32m     30\u001b[0m mask_image_path \u001b[39m=\u001b[39m os\u001b[39m.\u001b[39mpath\u001b[39m.\u001b[39mjoin(input_dir, mask_filename)\n\u001b[1;32m     31\u001b[0m label_txt_path \u001b[39m=\u001b[39m os\u001b[39m.\u001b[39mpath\u001b[39m.\u001b[39mjoin(output_dir, mask_filename\u001b[39m.\u001b[39mreplace(\u001b[39m'\u001b[39m\u001b[39m.jpg\u001b[39m\u001b[39m'\u001b[39m, \u001b[39m'\u001b[39m\u001b[39m.txt\u001b[39m\u001b[39m'\u001b[39m))\n\u001b[0;32m---> 32\u001b[0m mask_to_label(mask_image_path, label_txt_path, \u001b[39m0\u001b[39;49m)\n\u001b[1;32m     33\u001b[0m \u001b[39mprint\u001b[39m(\u001b[39m\"\u001b[39m\u001b[39mconverted \u001b[39m\u001b[39m\"\u001b[39m \u001b[39m+\u001b[39m mask_filename)\n\u001b[1;32m     34\u001b[0m counter \u001b[39m+\u001b[39m\u001b[39m=\u001b[39m \u001b[39m1\u001b[39m\n",
      "File \u001b[0;32m~/Documents/Special-Topics-Group-Project-2024/convert.py:12\u001b[0m, in \u001b[0;36mmask_to_label\u001b[0;34m(mask_path, label_path, class_id)\u001b[0m\n\u001b[1;32m     10\u001b[0m \u001b[39m# find contours in the mask image\u001b[39;00m\n\u001b[1;32m     11\u001b[0m contours, _ \u001b[39m=\u001b[39m cv2\u001b[39m.\u001b[39mfindContours(mask, cv2\u001b[39m.\u001b[39mRETR_EXTERNAL, cv2\u001b[39m.\u001b[39mCHAIN_APPROX_SIMPLE)\n\u001b[0;32m---> 12\u001b[0m contour \u001b[39m=\u001b[39m \u001b[39mmax\u001b[39;49m(contours, key\u001b[39m=\u001b[39;49mcv2\u001b[39m.\u001b[39;49mcontourArea)\n\u001b[1;32m     13\u001b[0m \u001b[39mwith\u001b[39;00m \u001b[39mopen\u001b[39m(label_path, \u001b[39m'\u001b[39m\u001b[39mw\u001b[39m\u001b[39m'\u001b[39m) \u001b[39mas\u001b[39;00m label_file:\n\u001b[1;32m     14\u001b[0m     \u001b[39m# convert contour to polygon format\u001b[39;00m\n\u001b[1;32m     15\u001b[0m     polygon_points \u001b[39m=\u001b[39m contour\u001b[39m.\u001b[39mreshape(\u001b[39m-\u001b[39m\u001b[39m1\u001b[39m, \u001b[39m2\u001b[39m)\n",
      "\u001b[0;31mValueError\u001b[0m: max() arg is an empty sequence"
     ]
    }
   ],
   "source": [
    "mask_to_label_dir(\"./streetview.v3i.yolov5pytorch/train/masks\", \"./streetview.v3i.yolov5pytorch/train/mlabel2\")"
   ]
  }
 ],
 "metadata": {
  "kernelspec": {
   "display_name": "road_segmentation",
   "language": "python",
   "name": "python3"
  },
  "language_info": {
   "codemirror_mode": {
    "name": "ipython",
    "version": 3
   },
   "file_extension": ".py",
   "mimetype": "text/x-python",
   "name": "python",
   "nbconvert_exporter": "python",
   "pygments_lexer": "ipython3",
   "version": "3.11.4"
  }
 },
 "nbformat": 4,
 "nbformat_minor": 2
}
