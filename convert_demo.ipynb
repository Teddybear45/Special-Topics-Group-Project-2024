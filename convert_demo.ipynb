{
 "cells": [
  {
   "cell_type": "code",
   "execution_count": null,
   "metadata": {},
   "outputs": [],
   "source": [
    "from convert import mask_to_label_dir, label_to_mask_dir"
   ]
  },
  {
   "cell_type": "code",
   "execution_count": null,
   "metadata": {},
   "outputs": [],
   "source": [
    "mask_to_label_dir(\"./demo/demo_masks\", \"./demo/result_labels/\")"
   ]
  },
  {
   "cell_type": "code",
   "execution_count": null,
   "metadata": {},
   "outputs": [],
   "source": [
    "label_to_mask_dir(\"./demo/demo_labels\", \"./demo/result_masks\", (2160, 3840))"
   ]
  },
  {
   "cell_type": "markdown",
   "metadata": {},
   "source": [
    "after running both the above cells, it should be that the files in demo_labels and result_labels are the same, and the files in demo_masks and result_masks the same!"
   ]
  }
 ],
 "metadata": {
  "kernelspec": {
   "display_name": "road_segmentation",
   "language": "python",
   "name": "python3"
  },
  "language_info": {
   "codemirror_mode": {
    "name": "ipython",
    "version": 3
   },
   "file_extension": ".py",
   "mimetype": "text/x-python",
   "name": "python",
   "nbconvert_exporter": "python",
   "pygments_lexer": "ipython3",
   "version": "3.11.4"
  }
 },
 "nbformat": 4,
 "nbformat_minor": 2
}
